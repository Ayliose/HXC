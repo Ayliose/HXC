{
 "cells": [
  {
   "cell_type": "code",
   "execution_count": 1,
   "id": "65d9a922",
   "metadata": {},
   "outputs": [],
   "source": [
    "import numpy\n",
    "from numpy import *\n",
    "import scipy\n",
    "from scipy import *\n",
    "import sympy\n",
    "from sympy import *"
   ]
  },
  {
   "cell_type": "code",
   "execution_count": 1,
   "id": "879550e5-8699-4660-9f11-ff7ebcb06858",
   "metadata": {},
   "outputs": [
    {
     "ename": "SyntaxError",
     "evalue": "invalid syntax (Temp/ipykernel_20256/413187758.py, line 1)",
     "output_type": "error",
     "traceback": [
      "\u001b[1;36m  File \u001b[1;32m\"C:\\Users\\johns\\AppData\\Local\\Temp/ipykernel_20256/413187758.py\"\u001b[1;36m, line \u001b[1;32m1\u001b[0m\n\u001b[1;33m    ngrok http 8888\u001b[0m\n\u001b[1;37m          ^\u001b[0m\n\u001b[1;31mSyntaxError\u001b[0m\u001b[1;31m:\u001b[0m invalid syntax\n"
     ]
    }
   ],
   "source": [
    "ngrok http 8888"
   ]
  },
  {
   "cell_type": "code",
   "execution_count": 2,
   "id": "69870d14",
   "metadata": {},
   "outputs": [],
   "source": [
    "import numpy as np\n",
    "import scipy as sc\n",
    "import sympy as sy"
   ]
  },
  {
   "cell_type": "code",
   "execution_count": 3,
   "id": "92f3ed79",
   "metadata": {},
   "outputs": [],
   "source": [
    "R = 0.00008206 #(m3*bar/mol*K)\n",
    "\n",
    "T = sy.Symbol(\"T\")\n",
    "\n",
    "P = sy.Symbol(\"P\")\n",
    "\n",
    "x1 = sy.Symbol(\"x1\")\n",
    "\n",
    "x2 = sy.Symbol(\"x2\")\n",
    "\n",
    "x3 = sy.Symbol(\"x3\")\n",
    "\n",
    "x4 = sy.Symbol(\"x4\")\n",
    "\n",
    "y1 = sy.Symbol(\"y1\")\n",
    "\n",
    "y2 = sy.Symbol(\"y2\")\n",
    "\n",
    "y3 = sy.Symbol(\"y3\")\n",
    "\n",
    "y4 = sy.Symbol(\"y4\")\n",
    "\n",
    "###Thermophysical Properties of Components###\n",
    "\n",
    "##H2O\n",
    "\n",
    "Tc1 =  647.3 #(K)\n",
    "\n",
    "Pc1 = 220.6 #(bar)\n",
    "\n",
    "w1 = 0.344\n",
    "\n",
    "##CO2\n",
    "\n",
    "Tc2 = 304.13 #(K)\n",
    "\n",
    "Pc2 = 73.8 #(bar)\n",
    "\n",
    "w2 = 0.239\n",
    "\n",
    "##CH4\n",
    "\n",
    "Tc3 = 190.56 #(K)\n",
    "\n",
    "Pc3 = 45.99 #(bar)\n",
    "\n",
    "w3 = 0.011\n",
    "\n",
    "##H2\n",
    "\n",
    "Tc4 = 33.15 #(K)\n",
    "\n",
    "Pc4 = 13 #(bar)\n",
    "\n",
    "w4 = -0.216"
   ]
  },
  {
   "cell_type": "code",
   "execution_count": 4,
   "id": "ce0c6a09",
   "metadata": {},
   "outputs": [],
   "source": [
    "##Binary Interaction Parameters\n",
    "\n",
    "k12 = 0.12\n",
    "\n",
    "k13 = 0\n",
    "\n",
    "k14 = 0\n",
    "\n",
    "k23 = 0.0919\n",
    "\n",
    "k24 = -0.1622\n",
    "\n",
    "k34 = 0.0156"
   ]
  },
  {
   "cell_type": "code",
   "execution_count": 5,
   "id": "8d05d4d9",
   "metadata": {},
   "outputs": [],
   "source": [
    "# k Equations\n",
    "\n",
    "k1 = 0.37464+1.54226*w1-0.26992*(w1**2)\n",
    "\n",
    "k2 = 0.37464+1.54226*w2-0.26992*(w2**2)\n",
    "\n",
    "k3 = 0.37464+1.54226*w3-0.26992*(w3**2)\n",
    "\n",
    "k4 = 0.37464+1.54226*w4-0.26992*(w4**2)"
   ]
  },
  {
   "cell_type": "code",
   "execution_count": 6,
   "id": "76765314",
   "metadata": {},
   "outputs": [],
   "source": [
    "##Alpha Functions\n",
    "\n",
    "alpha1 = 1 + k1*(1-(T/Tc1)**(1/2))\n",
    "\n",
    "alpha2 = 1 + k2*(1-(T/Tc2)**(1/2))\n",
    "\n",
    "alpha3 = 1 + k3*(1-(T/Tc3)**(1/2))\n",
    "\n",
    "alpha4 = 1 + k4*(1-(T/Tc4)**(1/2))"
   ]
  },
  {
   "cell_type": "code",
   "execution_count": 7,
   "id": "ed4c3949",
   "metadata": {},
   "outputs": [],
   "source": [
    "##Pure Component \"a\" Equations\n",
    "\n",
    "a1 = ((0.45724*(R**2)*(Tc1**2))/(Pc1))*alpha1\n",
    "\n",
    "a2 = ((0.45724*(R**2)*(Tc2**2))/(Pc2))*alpha2\n",
    "\n",
    "a3 = ((0.45724*(R**2)*(Tc3**2))/(Pc3))*alpha3\n",
    "\n",
    "a4 = ((0.45724*(R**2)*(Tc4**2))/(Pc4))*alpha4"
   ]
  },
  {
   "cell_type": "code",
   "execution_count": 8,
   "id": "6af6b953",
   "metadata": {},
   "outputs": [],
   "source": [
    "#Pure Component \"A\" Equations\n",
    "\n",
    "A1 = a1*P/((R*T)**2)\n",
    "\n",
    "A2 = a2*P/((R*T)**2)\n",
    "\n",
    "A3 = a3*P/((R*T)**2)\n",
    "\n",
    "A4 = a4*P/((R*T)**2)"
   ]
  },
  {
   "cell_type": "code",
   "execution_count": 9,
   "id": "5b6e0e27",
   "metadata": {},
   "outputs": [],
   "source": [
    "##Interaction \"a\" Equations\n",
    "\n",
    "a12 = (a1*a2)**(1/2)*(1-k12)\n",
    "\n",
    "a13 = (a1*a3)**(1/2)*(1-k13)\n",
    "\n",
    "a14 = (a1*a4)**(1/2)*(1-k14)\n",
    "\n",
    "a23 = (a2*a3)**(1/2)*(1-k23)\n",
    "\n",
    "a24 = (a2*a4)**(1/2)*(1-k24)\n",
    "\n",
    "a34 = (a3*a4)**(1/2)*(1-k34)"
   ]
  },
  {
   "cell_type": "code",
   "execution_count": 10,
   "id": "568b0045",
   "metadata": {},
   "outputs": [],
   "source": [
    "##Interaction \"A\" Equations\n",
    "\n",
    "A12 = a12*P/((R*T)**2)\n",
    "\n",
    "A13 = a13*P/((R*T)**2)\n",
    "\n",
    "A14 = a14*P/((R*T)**2)\n",
    "\n",
    "A23 = a23*P/((R*T)**2)\n",
    "\n",
    "A24 = a24*P/((R*T)**2)\n",
    "\n",
    "A34 = a34*P/((R*T)**2)"
   ]
  },
  {
   "cell_type": "code",
   "execution_count": 11,
   "id": "baac4825",
   "metadata": {},
   "outputs": [],
   "source": [
    "## a_mix Equation for Liquid Phase\n",
    "\n",
    "aml = (x1**2)*a1 + (x2**2)*a2 + (x3**2)*a3 + (x4**2)*a4 + 2*x1*x2*a12 + 2*x1*x3*a13 + 2*x1*x4*a14 + 2*x2*x3*a23 + 2*x2*x4*a24 + 2*x3*x4*a34"
   ]
  },
  {
   "cell_type": "code",
   "execution_count": 12,
   "id": "46700621",
   "metadata": {},
   "outputs": [],
   "source": [
    "## a_mix Equation for Vapor Phase\n",
    "\n",
    "amv = (y1**2)*a1 + (y2**2)*a2 + (y3**2)*a3 + (y4**2)*a4 + 2*y1*y2*a12 + 2*y1*y3*a13 + 2*y1*y4*a14 + 2*y2*y3*a23 + 2*y2*y4*a24 + 2*y3*y4*a34"
   ]
  },
  {
   "cell_type": "code",
   "execution_count": 13,
   "id": "628b548a",
   "metadata": {},
   "outputs": [],
   "source": [
    "## A_mix Equation for Liquid Phase\n",
    "\n",
    "Aml = aml*P/((R*T)**2)"
   ]
  },
  {
   "cell_type": "code",
   "execution_count": 14,
   "id": "5c5ce8e4",
   "metadata": {},
   "outputs": [],
   "source": [
    "## A_mix Equation for Vapor Phase\n",
    "\n",
    "Amv = amv*P/((R*T)**2)"
   ]
  },
  {
   "cell_type": "code",
   "execution_count": 15,
   "id": "8e19a311",
   "metadata": {},
   "outputs": [],
   "source": [
    "##Pure Component \"b\" Equations\n",
    "\n",
    "b1 = (0.0778*R*(Tc1**2))/Pc1\n",
    "\n",
    "b2 = (0.0778*R*(Tc2**2))/Pc2\n",
    "\n",
    "b3 = (0.0778*R*(Tc3**2))/Pc3\n",
    "\n",
    "b4 = (0.0778*R*(Tc4**2))/Pc4"
   ]
  },
  {
   "cell_type": "code",
   "execution_count": 16,
   "id": "3a1d2432",
   "metadata": {},
   "outputs": [],
   "source": [
    "#Pure Component \"B\" Equations\n",
    "\n",
    "B1 = b1*P/(R*T)\n",
    "\n",
    "B2 = b2*P/(R*T)\n",
    "\n",
    "B3 = b3*P/(R*T)\n",
    "\n",
    "B4 = b4*P/(R*T)"
   ]
  },
  {
   "cell_type": "code",
   "execution_count": 17,
   "id": "d5e832f4",
   "metadata": {},
   "outputs": [],
   "source": [
    "## b_mix Equation for Liquid Phase\n",
    "\n",
    "bml = x1*b1 + x2*b2 + x3*b3 + x4*b4"
   ]
  },
  {
   "cell_type": "code",
   "execution_count": 18,
   "id": "c531d8da",
   "metadata": {},
   "outputs": [],
   "source": [
    "## b_mix Equation for Vapor Phase\n",
    "\n",
    "bmv = y1*b1 + y2*b2 + y3*b3 + y4*b4"
   ]
  },
  {
   "cell_type": "code",
   "execution_count": 19,
   "id": "e9a7a0bf",
   "metadata": {},
   "outputs": [],
   "source": [
    "## B_mix Equation for Liquid Phase\n",
    "\n",
    "Bml = bml*P/(R*T)"
   ]
  },
  {
   "cell_type": "code",
   "execution_count": 20,
   "id": "8bb36127",
   "metadata": {},
   "outputs": [],
   "source": [
    "## B_mix Equation for Vapor Phase\n",
    "\n",
    "Bmv = bmv*P/(R*T)"
   ]
  },
  {
   "cell_type": "code",
   "execution_count": 21,
   "id": "23987076",
   "metadata": {},
   "outputs": [],
   "source": [
    "###Cubic Equation Constants for Liquid Phase###\n",
    "\n",
    "c2l = -1 - Bml\n",
    "\n",
    "c1l = Aml - 3*(Bml)**2 - 2*Bml\n",
    "\n",
    "c0l = (Bml)**3 + (Bml)**2 - Aml*Bml"
   ]
  },
  {
   "cell_type": "code",
   "execution_count": 22,
   "id": "b28a675a",
   "metadata": {},
   "outputs": [],
   "source": [
    "###Cubic Equation Constants for Vapor Phase###\n",
    "\n",
    "c2v = -1 - Bmv\n",
    "\n",
    "c1v = Amv - 3*(Bmv)**2 - 2*Bmv\n",
    "\n",
    "c0v = (Bmv)**3 + (Bmv)**2 - Amv*Bmv"
   ]
  },
  {
   "cell_type": "code",
   "execution_count": 23,
   "id": "72c9036e",
   "metadata": {},
   "outputs": [],
   "source": [
    "##Mixture Compressibility Factor for Liquid Phase\n",
    "\n",
    "def Zml():\n",
    "    \n",
    "    Zml = [1, c2l, c1l, c0l]\n",
    "\n",
    "    ZlRoots = np.roots(Zml)\n",
    "\n",
    "    Zlm = ZlRoots[2]\n",
    "    \n",
    "    return Zlm"
   ]
  },
  {
   "cell_type": "code",
   "execution_count": 79,
   "id": "84fd96f4",
   "metadata": {},
   "outputs": [
    {
     "ename": "TypeError",
     "evalue": "can't convert expression to float",
     "output_type": "error",
     "traceback": [
      "\u001b[1;31m---------------------------------------------------------------------------\u001b[0m",
      "\u001b[1;31mTypeError\u001b[0m                                 Traceback (most recent call last)",
      "\u001b[1;32m~\\AppData\\Local\\Temp/ipykernel_24424/3048609319.py\u001b[0m in \u001b[0;36m<module>\u001b[1;34m\u001b[0m\n\u001b[0;32m      9\u001b[0m     \u001b[1;32mreturn\u001b[0m \u001b[0mZvRoots\u001b[0m\u001b[1;33m[\u001b[0m\u001b[1;36m2\u001b[0m\u001b[1;33m]\u001b[0m\u001b[1;33m\u001b[0m\u001b[1;33m\u001b[0m\u001b[0m\n\u001b[0;32m     10\u001b[0m \u001b[1;33m\u001b[0m\u001b[0m\n\u001b[1;32m---> 11\u001b[1;33m \u001b[0mZmv\u001b[0m \u001b[1;33m=\u001b[0m \u001b[0mZmv\u001b[0m\u001b[1;33m(\u001b[0m\u001b[1;33m)\u001b[0m\u001b[1;33m\u001b[0m\u001b[1;33m\u001b[0m\u001b[0m\n\u001b[0m",
      "\u001b[1;32m~\\AppData\\Local\\Temp/ipykernel_24424/3048609319.py\u001b[0m in \u001b[0;36mZmv\u001b[1;34m()\u001b[0m\n\u001b[0;32m      5\u001b[0m     \u001b[0mZmv\u001b[0m \u001b[1;33m=\u001b[0m \u001b[1;33m[\u001b[0m\u001b[1;36m1\u001b[0m\u001b[1;33m,\u001b[0m \u001b[0mc2v\u001b[0m\u001b[1;33m,\u001b[0m \u001b[0mc1v\u001b[0m\u001b[1;33m,\u001b[0m \u001b[0mc0v\u001b[0m\u001b[1;33m]\u001b[0m\u001b[1;33m\u001b[0m\u001b[1;33m\u001b[0m\u001b[0m\n\u001b[0;32m      6\u001b[0m \u001b[1;33m\u001b[0m\u001b[0m\n\u001b[1;32m----> 7\u001b[1;33m     \u001b[0mZvRoots\u001b[0m \u001b[1;33m=\u001b[0m \u001b[0mnp\u001b[0m\u001b[1;33m.\u001b[0m\u001b[0mroots\u001b[0m\u001b[1;33m(\u001b[0m\u001b[0mZmv\u001b[0m\u001b[1;33m)\u001b[0m\u001b[1;33m\u001b[0m\u001b[1;33m\u001b[0m\u001b[0m\n\u001b[0m\u001b[0;32m      8\u001b[0m \u001b[1;33m\u001b[0m\u001b[0m\n\u001b[0;32m      9\u001b[0m     \u001b[1;32mreturn\u001b[0m \u001b[0mZvRoots\u001b[0m\u001b[1;33m[\u001b[0m\u001b[1;36m2\u001b[0m\u001b[1;33m]\u001b[0m\u001b[1;33m\u001b[0m\u001b[1;33m\u001b[0m\u001b[0m\n",
      "\u001b[1;32m<__array_function__ internals>\u001b[0m in \u001b[0;36mroots\u001b[1;34m(*args, **kwargs)\u001b[0m\n",
      "\u001b[1;32m~\\Anaconda\\lib\\site-packages\\numpy\\lib\\polynomial.py\u001b[0m in \u001b[0;36mroots\u001b[1;34m(p)\u001b[0m\n\u001b[0;32m    246\u001b[0m     \u001b[1;31m# casting: if incoming array isn't floating point, make it floating point.\u001b[0m\u001b[1;33m\u001b[0m\u001b[1;33m\u001b[0m\u001b[0m\n\u001b[0;32m    247\u001b[0m     \u001b[1;32mif\u001b[0m \u001b[1;32mnot\u001b[0m \u001b[0missubclass\u001b[0m\u001b[1;33m(\u001b[0m\u001b[0mp\u001b[0m\u001b[1;33m.\u001b[0m\u001b[0mdtype\u001b[0m\u001b[1;33m.\u001b[0m\u001b[0mtype\u001b[0m\u001b[1;33m,\u001b[0m \u001b[1;33m(\u001b[0m\u001b[0mNX\u001b[0m\u001b[1;33m.\u001b[0m\u001b[0mfloating\u001b[0m\u001b[1;33m,\u001b[0m \u001b[0mNX\u001b[0m\u001b[1;33m.\u001b[0m\u001b[0mcomplexfloating\u001b[0m\u001b[1;33m)\u001b[0m\u001b[1;33m)\u001b[0m\u001b[1;33m:\u001b[0m\u001b[1;33m\u001b[0m\u001b[1;33m\u001b[0m\u001b[0m\n\u001b[1;32m--> 248\u001b[1;33m         \u001b[0mp\u001b[0m \u001b[1;33m=\u001b[0m \u001b[0mp\u001b[0m\u001b[1;33m.\u001b[0m\u001b[0mastype\u001b[0m\u001b[1;33m(\u001b[0m\u001b[0mfloat\u001b[0m\u001b[1;33m)\u001b[0m\u001b[1;33m\u001b[0m\u001b[1;33m\u001b[0m\u001b[0m\n\u001b[0m\u001b[0;32m    249\u001b[0m \u001b[1;33m\u001b[0m\u001b[0m\n\u001b[0;32m    250\u001b[0m     \u001b[0mN\u001b[0m \u001b[1;33m=\u001b[0m \u001b[0mlen\u001b[0m\u001b[1;33m(\u001b[0m\u001b[0mp\u001b[0m\u001b[1;33m)\u001b[0m\u001b[1;33m\u001b[0m\u001b[1;33m\u001b[0m\u001b[0m\n",
      "\u001b[1;32m~\\Anaconda\\lib\\site-packages\\sympy\\core\\expr.py\u001b[0m in \u001b[0;36m__float__\u001b[1;34m(self)\u001b[0m\n\u001b[0;32m    357\u001b[0m         \u001b[1;32mif\u001b[0m \u001b[0mresult\u001b[0m\u001b[1;33m.\u001b[0m\u001b[0mis_number\u001b[0m \u001b[1;32mand\u001b[0m \u001b[0mresult\u001b[0m\u001b[1;33m.\u001b[0m\u001b[0mas_real_imag\u001b[0m\u001b[1;33m(\u001b[0m\u001b[1;33m)\u001b[0m\u001b[1;33m[\u001b[0m\u001b[1;36m1\u001b[0m\u001b[1;33m]\u001b[0m\u001b[1;33m:\u001b[0m\u001b[1;33m\u001b[0m\u001b[1;33m\u001b[0m\u001b[0m\n\u001b[0;32m    358\u001b[0m             \u001b[1;32mraise\u001b[0m \u001b[0mTypeError\u001b[0m\u001b[1;33m(\u001b[0m\u001b[1;34m\"can't convert complex to float\"\u001b[0m\u001b[1;33m)\u001b[0m\u001b[1;33m\u001b[0m\u001b[1;33m\u001b[0m\u001b[0m\n\u001b[1;32m--> 359\u001b[1;33m         \u001b[1;32mraise\u001b[0m \u001b[0mTypeError\u001b[0m\u001b[1;33m(\u001b[0m\u001b[1;34m\"can't convert expression to float\"\u001b[0m\u001b[1;33m)\u001b[0m\u001b[1;33m\u001b[0m\u001b[1;33m\u001b[0m\u001b[0m\n\u001b[0m\u001b[0;32m    360\u001b[0m \u001b[1;33m\u001b[0m\u001b[0m\n\u001b[0;32m    361\u001b[0m     \u001b[1;32mdef\u001b[0m \u001b[0m__complex__\u001b[0m\u001b[1;33m(\u001b[0m\u001b[0mself\u001b[0m\u001b[1;33m)\u001b[0m\u001b[1;33m:\u001b[0m\u001b[1;33m\u001b[0m\u001b[1;33m\u001b[0m\u001b[0m\n",
      "\u001b[1;31mTypeError\u001b[0m: can't convert expression to float"
     ]
    }
   ],
   "source": [
    "##Mixture Compressibility Factor for Vapor Phase\n",
    "\n",
    "def Zmv():\n",
    "    \n",
    "    Zmv = [1, c2v, c1v, c0v]\n",
    "\n",
    "    ZvRoots = np.roots(Zmv)\n",
    "    \n",
    "    return ZvRoots[2]\n",
    "\n",
    "Zmv = Zmv()"
   ]
  },
  {
   "cell_type": "code",
   "execution_count": 78,
   "id": "56587731",
   "metadata": {},
   "outputs": [
    {
     "ename": "NameError",
     "evalue": "name 'Zlm' is not defined",
     "output_type": "error",
     "traceback": [
      "\u001b[1;31m---------------------------------------------------------------------------\u001b[0m",
      "\u001b[1;31mNameError\u001b[0m                                 Traceback (most recent call last)",
      "\u001b[1;32m~\\AppData\\Local\\Temp/ipykernel_24424/4267740298.py\u001b[0m in \u001b[0;36m<module>\u001b[1;34m\u001b[0m\n\u001b[0;32m      1\u001b[0m \u001b[1;31m##Liquid Mixture Fugacity Coefficients\u001b[0m\u001b[1;33m\u001b[0m\u001b[1;33m\u001b[0m\u001b[0m\n\u001b[0;32m      2\u001b[0m \u001b[1;33m\u001b[0m\u001b[0m\n\u001b[1;32m----> 3\u001b[1;33m \u001b[0mPHIL1\u001b[0m \u001b[1;33m=\u001b[0m \u001b[1;33m(\u001b[0m\u001b[0mmath\u001b[0m\u001b[1;33m.\u001b[0m\u001b[0me\u001b[0m\u001b[1;33m)\u001b[0m\u001b[1;33m**\u001b[0m\u001b[1;33m(\u001b[0m\u001b[1;33m(\u001b[0m\u001b[0mB1\u001b[0m\u001b[1;33m/\u001b[0m\u001b[0mBml\u001b[0m\u001b[1;33m)\u001b[0m\u001b[1;33m*\u001b[0m\u001b[1;33m(\u001b[0m\u001b[0mZlm\u001b[0m\u001b[1;33m(\u001b[0m\u001b[1;33m)\u001b[0m \u001b[1;33m-\u001b[0m \u001b[1;36m1\u001b[0m\u001b[1;33m)\u001b[0m\u001b[1;33m*\u001b[0m\u001b[0mnp\u001b[0m\u001b[1;33m.\u001b[0m\u001b[0mlog\u001b[0m\u001b[1;33m(\u001b[0m\u001b[0mabs\u001b[0m\u001b[1;33m(\u001b[0m\u001b[0mZlm\u001b[0m\u001b[1;33m(\u001b[0m\u001b[1;33m)\u001b[0m \u001b[1;33m-\u001b[0m \u001b[0mBml\u001b[0m\u001b[1;33m)\u001b[0m\u001b[1;33m)\u001b[0m \u001b[1;33m-\u001b[0m \u001b[1;33m(\u001b[0m\u001b[0mAml\u001b[0m\u001b[1;33m/\u001b[0m\u001b[1;33m(\u001b[0m\u001b[1;36m2\u001b[0m\u001b[1;33m*\u001b[0m\u001b[0mBml\u001b[0m\u001b[1;33m*\u001b[0m\u001b[1;33m(\u001b[0m\u001b[1;36m2\u001b[0m\u001b[1;33m)\u001b[0m\u001b[1;33m**\u001b[0m\u001b[1;33m(\u001b[0m\u001b[1;36m1\u001b[0m\u001b[1;33m/\u001b[0m\u001b[1;36m2\u001b[0m\u001b[1;33m)\u001b[0m\u001b[1;33m)\u001b[0m\u001b[1;33m)\u001b[0m\u001b[1;33m*\u001b[0m\u001b[1;33m(\u001b[0m\u001b[1;36m2\u001b[0m\u001b[1;33m*\u001b[0m\u001b[1;33m(\u001b[0m\u001b[0mx2\u001b[0m\u001b[1;33m*\u001b[0m\u001b[0mA12\u001b[0m \u001b[1;33m+\u001b[0m \u001b[0mx3\u001b[0m\u001b[1;33m*\u001b[0m\u001b[0mA13\u001b[0m \u001b[1;33m+\u001b[0m \u001b[0mx4\u001b[0m\u001b[1;33m*\u001b[0m\u001b[0mA14\u001b[0m\u001b[1;33m)\u001b[0m\u001b[1;33m/\u001b[0m\u001b[1;33m(\u001b[0m\u001b[0mAml\u001b[0m\u001b[1;33m)\u001b[0m\u001b[1;33m)\u001b[0m\u001b[1;33m*\u001b[0m\u001b[0mnp\u001b[0m\u001b[1;33m.\u001b[0m\u001b[0mlog\u001b[0m\u001b[1;33m(\u001b[0m\u001b[1;33m(\u001b[0m\u001b[0mZml\u001b[0m\u001b[1;33m(\u001b[0m\u001b[1;33m)\u001b[0m \u001b[1;33m+\u001b[0m \u001b[0mBml\u001b[0m\u001b[1;33m*\u001b[0m\u001b[1;33m(\u001b[0m\u001b[1;36m1\u001b[0m \u001b[1;33m+\u001b[0m \u001b[1;33m(\u001b[0m\u001b[1;36m2\u001b[0m\u001b[1;33m)\u001b[0m\u001b[1;33m**\u001b[0m\u001b[1;33m(\u001b[0m\u001b[1;36m1\u001b[0m\u001b[1;33m/\u001b[0m\u001b[1;36m2\u001b[0m\u001b[1;33m)\u001b[0m\u001b[1;33m)\u001b[0m\u001b[1;33m)\u001b[0m\u001b[1;33m/\u001b[0m\u001b[1;33m(\u001b[0m\u001b[1;33m(\u001b[0m\u001b[0mZml\u001b[0m\u001b[1;33m(\u001b[0m\u001b[1;33m)\u001b[0m \u001b[1;33m+\u001b[0m \u001b[0mBml\u001b[0m\u001b[1;33m*\u001b[0m\u001b[1;33m(\u001b[0m\u001b[1;36m1\u001b[0m \u001b[1;33m-\u001b[0m \u001b[1;33m(\u001b[0m\u001b[1;36m2\u001b[0m\u001b[1;33m)\u001b[0m\u001b[1;33m**\u001b[0m\u001b[1;33m(\u001b[0m\u001b[1;36m1\u001b[0m\u001b[1;33m/\u001b[0m\u001b[1;36m2\u001b[0m\u001b[1;33m)\u001b[0m\u001b[1;33m)\u001b[0m\u001b[1;33m)\u001b[0m\u001b[1;33m)\u001b[0m\u001b[1;33m)\u001b[0m\u001b[1;33m)\u001b[0m\u001b[1;33m\u001b[0m\u001b[1;33m\u001b[0m\u001b[0m\n\u001b[0m\u001b[0;32m      4\u001b[0m \u001b[1;33m\u001b[0m\u001b[0m\n\u001b[0;32m      5\u001b[0m \u001b[0mPHIL2\u001b[0m \u001b[1;33m=\u001b[0m \u001b[1;33m(\u001b[0m\u001b[0mmath\u001b[0m\u001b[1;33m.\u001b[0m\u001b[0me\u001b[0m\u001b[1;33m)\u001b[0m\u001b[1;33m**\u001b[0m\u001b[1;33m(\u001b[0m\u001b[1;33m(\u001b[0m\u001b[0mB2\u001b[0m\u001b[1;33m/\u001b[0m\u001b[0mBml\u001b[0m\u001b[1;33m)\u001b[0m\u001b[1;33m*\u001b[0m\u001b[1;33m(\u001b[0m\u001b[0mZlm\u001b[0m\u001b[1;33m(\u001b[0m\u001b[1;33m)\u001b[0m \u001b[1;33m-\u001b[0m \u001b[1;36m1\u001b[0m\u001b[1;33m)\u001b[0m\u001b[1;33m*\u001b[0m\u001b[0mnp\u001b[0m\u001b[1;33m.\u001b[0m\u001b[0mlog\u001b[0m\u001b[1;33m(\u001b[0m\u001b[0mabs\u001b[0m\u001b[1;33m(\u001b[0m\u001b[0mZlm\u001b[0m\u001b[1;33m(\u001b[0m\u001b[1;33m)\u001b[0m \u001b[1;33m-\u001b[0m \u001b[0mBml\u001b[0m\u001b[1;33m)\u001b[0m\u001b[1;33m)\u001b[0m \u001b[1;33m-\u001b[0m \u001b[1;33m(\u001b[0m\u001b[0mAml\u001b[0m\u001b[1;33m/\u001b[0m\u001b[1;33m(\u001b[0m\u001b[1;36m2\u001b[0m\u001b[1;33m*\u001b[0m\u001b[0mBml\u001b[0m\u001b[1;33m*\u001b[0m\u001b[1;33m(\u001b[0m\u001b[1;36m2\u001b[0m\u001b[1;33m)\u001b[0m\u001b[1;33m**\u001b[0m\u001b[1;33m(\u001b[0m\u001b[1;36m1\u001b[0m\u001b[1;33m/\u001b[0m\u001b[1;36m2\u001b[0m\u001b[1;33m)\u001b[0m\u001b[1;33m)\u001b[0m\u001b[1;33m)\u001b[0m\u001b[1;33m*\u001b[0m\u001b[1;33m(\u001b[0m\u001b[1;36m2\u001b[0m\u001b[1;33m*\u001b[0m\u001b[1;33m(\u001b[0m\u001b[0mx1\u001b[0m\u001b[1;33m*\u001b[0m\u001b[0mA12\u001b[0m \u001b[1;33m+\u001b[0m \u001b[0mx3\u001b[0m\u001b[1;33m*\u001b[0m\u001b[0mA23\u001b[0m \u001b[1;33m+\u001b[0m \u001b[0mx4\u001b[0m\u001b[1;33m*\u001b[0m\u001b[0mA24\u001b[0m\u001b[1;33m)\u001b[0m\u001b[1;33m/\u001b[0m\u001b[1;33m(\u001b[0m\u001b[0mAml\u001b[0m\u001b[1;33m)\u001b[0m\u001b[1;33m)\u001b[0m\u001b[1;33m*\u001b[0m\u001b[0mnp\u001b[0m\u001b[1;33m.\u001b[0m\u001b[0mlog\u001b[0m\u001b[1;33m(\u001b[0m\u001b[1;33m(\u001b[0m\u001b[0mZml\u001b[0m\u001b[1;33m(\u001b[0m\u001b[1;33m)\u001b[0m \u001b[1;33m+\u001b[0m \u001b[0mBml\u001b[0m\u001b[1;33m*\u001b[0m\u001b[1;33m(\u001b[0m\u001b[1;36m1\u001b[0m \u001b[1;33m+\u001b[0m \u001b[1;33m(\u001b[0m\u001b[1;36m2\u001b[0m\u001b[1;33m)\u001b[0m\u001b[1;33m**\u001b[0m\u001b[1;33m(\u001b[0m\u001b[1;36m1\u001b[0m\u001b[1;33m/\u001b[0m\u001b[1;36m2\u001b[0m\u001b[1;33m)\u001b[0m\u001b[1;33m)\u001b[0m\u001b[1;33m)\u001b[0m\u001b[1;33m/\u001b[0m\u001b[1;33m(\u001b[0m\u001b[1;33m(\u001b[0m\u001b[0mZml\u001b[0m\u001b[1;33m(\u001b[0m\u001b[1;33m)\u001b[0m \u001b[1;33m+\u001b[0m \u001b[0mBml\u001b[0m\u001b[1;33m*\u001b[0m\u001b[1;33m(\u001b[0m\u001b[1;36m1\u001b[0m \u001b[1;33m-\u001b[0m \u001b[1;33m(\u001b[0m\u001b[1;36m2\u001b[0m\u001b[1;33m)\u001b[0m\u001b[1;33m**\u001b[0m\u001b[1;33m(\u001b[0m\u001b[1;36m1\u001b[0m\u001b[1;33m/\u001b[0m\u001b[1;36m2\u001b[0m\u001b[1;33m)\u001b[0m\u001b[1;33m)\u001b[0m\u001b[1;33m)\u001b[0m\u001b[1;33m)\u001b[0m\u001b[1;33m)\u001b[0m\u001b[1;33m)\u001b[0m\u001b[1;33m\u001b[0m\u001b[1;33m\u001b[0m\u001b[0m\n",
      "\u001b[1;31mNameError\u001b[0m: name 'Zlm' is not defined"
     ]
    }
   ],
   "source": [
    "##Liquid Mixture Fugacity Coefficients\n",
    "\n",
    "PHIL1 = (math.e)**((B1/Bml)*(Zlm() - 1)*np.log(abs(Zlm() - Bml)) - (Aml/(2*Bml*(2)**(1/2)))*(2*(x2*A12 + x3*A13 + x4*A14)/(Aml))*np.log((Zml() + Bml*(1 + (2)**(1/2)))/((Zml() + Bml*(1 - (2)**(1/2))))))\n",
    "\n",
    "PHIL2 = (math.e)**((B2/Bml)*(Zlm() - 1)*np.log(abs(Zlm() - Bml)) - (Aml/(2*Bml*(2)**(1/2)))*(2*(x1*A12 + x3*A23 + x4*A24)/(Aml))*np.log((Zml() + Bml*(1 + (2)**(1/2)))/((Zml() + Bml*(1 - (2)**(1/2))))))\n",
    "\n",
    "PHIL3 = (math.e)**((B3/Bml)*(Zlm() - 1)*np.log(abs(Zlm() - Bml)) - (Aml/(2*Bml*(2)**(1/2)))*(2*(x1*A13 + x2*A23 + x4*A34)/(Aml))*np.log((Zml() + Bml*(1 + (2)**(1/2)))/((Zml() + Bml*(1 - (2)**(1/2))))))\n",
    "\n",
    "PHIL4 = (math.e)**((B4/Bml)*(Zlm() - 1)*np.log(abs(Zlm() - Bml)) - (Aml/(2*Bml*(2)**(1/2)))*(2*(x1*A14 + x2*A24 + x3*A34)/(Aml))*np.log((Zml() + Bml*(1 + (2)**(1/2)))/((Zml() + Bml*(1 - (2)**(1/2))))))"
   ]
  },
  {
   "cell_type": "code",
   "execution_count": null,
   "id": "2f06db4b",
   "metadata": {},
   "outputs": [],
   "source": []
  }
 ],
 "metadata": {
  "kernelspec": {
   "display_name": "Python 3 (ipykernel)",
   "language": "python",
   "name": "python3"
  },
  "language_info": {
   "codemirror_mode": {
    "name": "ipython",
    "version": 3
   },
   "file_extension": ".py",
   "mimetype": "text/x-python",
   "name": "python",
   "nbconvert_exporter": "python",
   "pygments_lexer": "ipython3",
   "version": "3.9.7"
  }
 },
 "nbformat": 4,
 "nbformat_minor": 5
}
